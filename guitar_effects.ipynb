{
  "nbformat": 4,
  "nbformat_minor": 0,
  "metadata": {
    "colab": {
      "name": "guitar-effects.ipynb",
      "provenance": [],
      "collapsed_sections": [],
      "authorship_tag": "ABX9TyNpgafKbT6NbsERz0mU8l1H",
      "include_colab_link": true
    },
    "kernelspec": {
      "name": "python3",
      "display_name": "Python 3"
    }
  },
  "cells": [
    {
      "cell_type": "markdown",
      "metadata": {
        "id": "view-in-github",
        "colab_type": "text"
      },
      "source": [
        "<a href=\"https://colab.research.google.com/github/gened1080/guitar-effects/blob/master/guitar_effects.ipynb\" target=\"_parent\"><img src=\"https://colab.research.google.com/assets/colab-badge.svg\" alt=\"Open In Colab\"/></a>"
      ]
    },
    {
      "cell_type": "code",
      "metadata": {
        "id": "iK097bVCs-T0",
        "colab_type": "code",
        "colab": {
          "base_uri": "https://localhost:8080/",
          "height": 272
        },
        "outputId": "1be273ab-d96e-4118-9229-09feae8c681c"
      },
      "source": [
        "%%bash\n",
        "!(stat -t /usr/local/lib/*/dist-packages/google/colab > /dev/null 2>&1) && exit \n",
        "rm -rf guitar-effects\n",
        "git clone https://github.com/gened1080/guitar-effects.git\n",
        "pip install pydub\n",
        "sudo apt-get install libasound-dev portaudio19-dev libportaudio2 libportaudiocpp0 ffmpeg\n",
        "pip install pyaudio"
      ],
      "execution_count": 4,
      "outputs": [
        {
          "output_type": "stream",
          "text": [
            "Requirement already satisfied: pydub in /usr/local/lib/python3.6/dist-packages (0.24.1)\n",
            "Reading package lists...\n",
            "Building dependency tree...\n",
            "Reading state information...\n",
            "libportaudio2 is already the newest version (19.6.0-1).\n",
            "libportaudiocpp0 is already the newest version (19.6.0-1).\n",
            "portaudio19-dev is already the newest version (19.6.0-1).\n",
            "libasound2-dev is already the newest version (1.1.3-5ubuntu0.5).\n",
            "ffmpeg is already the newest version (7:3.4.8-0ubuntu0.2).\n",
            "The following package was automatically installed and is no longer required:\n",
            "  libnvidia-common-440\n",
            "Use 'sudo apt autoremove' to remove it.\n",
            "0 upgraded, 0 newly installed, 0 to remove and 35 not upgraded.\n",
            "Requirement already satisfied: pyaudio in /usr/local/lib/python3.6/dist-packages (0.2.11)\n"
          ],
          "name": "stdout"
        },
        {
          "output_type": "stream",
          "text": [
            "Cloning into 'guitar-effects'...\n"
          ],
          "name": "stderr"
        }
      ]
    },
    {
      "cell_type": "code",
      "metadata": {
        "id": "J1PDr_QdxWlO",
        "colab_type": "code",
        "colab": {}
      },
      "source": [
        "import sys\n",
        "sys.path.append('/content/guitar-effects')\n",
        "import guitareffects as ge\n",
        "from bokeh.io import output_notebook\n",
        "import IPython.display as ipd\n",
        "output_notebook()"
      ],
      "execution_count": 7,
      "outputs": []
    },
    {
      "cell_type": "markdown",
      "metadata": {
        "id": "fKcRp8mvxzMt",
        "colab_type": "text"
      },
      "source": [
        "## Guitar Effects Implemented in Python\n",
        "\n",
        "This notebook contains Python implementations of different guitar effects. All of the effects are defined as functions in the file `guitareffects.py`, which is imported in the cell above. Run the cells below and follow the input instructions to add effects to any audio signal. The audio files need to be saved in the folder called `audiofiles`. \n",
        "\n",
        "The cell below creates an object of the class `GEcore` and reads the input audio file. This class also contains all the functions for the various effects.\n",
        "\n",
        "Lastly, you can chain various guitar effects by using the output of any of the guitar effect functions as the input to another. "
      ]
    },
    {
      "cell_type": "code",
      "metadata": {
        "id": "Zz3uBRLCx2n8",
        "colab_type": "code",
        "colab": {}
      },
      "source": [
        "geff = ge.GEcore()\n",
        "ipd.Audio(geff.signal, rate=geff.framerate)"
      ],
      "execution_count": null,
      "outputs": []
    },
    {
      "cell_type": "markdown",
      "metadata": {
        "id": "WAgFCRCux5EY",
        "colab_type": "text"
      },
      "source": [
        "### 1. [Delay](https://en.wikipedia.org/wiki/Delay_(audio_effect))\n",
        "This is a simple effect where the output signal is a combination of the input signal and its delayed version. The amount of delay and the amount of gain in combining the delayed input determies the output. Once can use this as a starting point for various other effects such as the echo effect and the chorus effect."
      ]
    },
    {
      "cell_type": "code",
      "metadata": {
        "id": "pJtqWtybx8eA",
        "colab_type": "code",
        "colab": {}
      },
      "source": [
        "delay_eff = geff.delay(geff.signal, True)\n",
        "ipd.Audio(delay_eff, rate=geff.framerate)"
      ],
      "execution_count": null,
      "outputs": []
    },
    {
      "cell_type": "markdown",
      "metadata": {
        "id": "zSwRZALpyAmi",
        "colab_type": "text"
      },
      "source": [
        "### 2. [Flanger](https://en.wikipedia.org/wiki/Flanging)\n",
        "\n",
        "The Flanger effect is produced when the input signal is combined with its damped and delayed version and the time delay is gradually varied in an oscillating manner."
      ]
    },
    {
      "cell_type": "code",
      "metadata": {
        "id": "R6MkjlFMyFKD",
        "colab_type": "code",
        "colab": {}
      },
      "source": [
        "flanger_eff = geff.flanger(geff.signal, True)\n",
        "ipd.Audio(flanger_eff, rate=geff.framerate)"
      ],
      "execution_count": null,
      "outputs": []
    },
    {
      "cell_type": "markdown",
      "metadata": {
        "id": "R_wBl35gyKfO",
        "colab_type": "text"
      },
      "source": [
        "### 3. [Overdrive](https://en.wikipedia.org/wiki/Distortion_(music))\n",
        "Overdrive is an effect where the amplitude of the input signal undergoes a non-linear amplification. The threshold determines how much of the signal undergoes the nonlinear amplification curve (lower threshold implies more of the signal is captured in the curve)."
      ]
    },
    {
      "cell_type": "code",
      "metadata": {
        "id": "mb-xFH_wyOOR",
        "colab_type": "code",
        "colab": {}
      },
      "source": [
        "overdrive_eff = geff.overdrive(geff.signal, True)\n",
        "ipd.Audio(overdrive_eff, rate=geff.framerate)"
      ],
      "execution_count": null,
      "outputs": []
    },
    {
      "cell_type": "markdown",
      "metadata": {
        "id": "PO6_nmcKyQ5e",
        "colab_type": "text"
      },
      "source": [
        "### 4. [Distortion](https://en.wikipedia.org/wiki/Distortion_(music))\n",
        "Distortion (similar to overdrive) transforms the input signal through a nonlinear amplificaiton curve. The nonlinear curve used in the distorsion effect is an exponential, resulting in a wider tonal area compared to overdrive. "
      ]
    },
    {
      "cell_type": "code",
      "metadata": {
        "id": "ckKmLRG7yTyD",
        "colab_type": "code",
        "colab": {}
      },
      "source": [
        "distortion_eff = geff.distortion(geff.signal, True)\n",
        "ipd.Audio(distortion_eff, rate=geff.framerate)"
      ],
      "execution_count": null,
      "outputs": []
    },
    {
      "cell_type": "markdown",
      "metadata": {
        "id": "Lyb5KSi-yo36",
        "colab_type": "text"
      },
      "source": [
        "### 5. [Tremolo](https://en.wikipedia.org/wiki/Tremolo)\n",
        "Tremolo produces a trembling sound effect. This effect can be generated by adding amplitude modulation to the input signal. The depth of the amplitude modulation and the modulation frequency control the output."
      ]
    },
    {
      "cell_type": "code",
      "metadata": {
        "id": "vt-eolThywSL",
        "colab_type": "code",
        "colab": {}
      },
      "source": [
        "tremolo_eff = geff.tremolo(geff.signal, True)\n",
        "ipd.Audio(tremolo_eff, rate=geff.framerate)"
      ],
      "execution_count": null,
      "outputs": []
    },
    {
      "cell_type": "markdown",
      "metadata": {
        "id": "qWhbPesXy0R4",
        "colab_type": "text"
      },
      "source": [
        "### 6. [Wah-Wah](https://en.wikipedia.org/wiki/Wah-wah_(music))\n",
        "The wah-wah effect is generated by mixing the input audio and its bandpass filtered version while the center frequency of the bandpass filter is varying in time. There are three main parameters controling the output of this effect. The minimum and maximum of the center frequency of the bandpass filter, the frequency at which this center frequency is cycled (also known as the wah frequency), and the damping factor. Lower the damping factor smaller is the pass band."
      ]
    },
    {
      "cell_type": "code",
      "metadata": {
        "id": "KH6xmi_my1Sv",
        "colab_type": "code",
        "colab": {}
      },
      "source": [
        "wahwah_eff = geff.wahwah(geff.signal, True)\n",
        "ipd.Audio(wahwah_eff, rate=geff.framerate)"
      ],
      "execution_count": null,
      "outputs": []
    },
    {
      "cell_type": "markdown",
      "metadata": {
        "id": "cKvnkb44y3cQ",
        "colab_type": "text"
      },
      "source": [
        "### 7. [Octave Up](https://en.wikipedia.org/wiki/Octave_effect)\n",
        "An octave effect is produced by combining the input signal with its processed version, where the processed signal is an octave higher than the original. The gain of the processed signal controls how much of the processed signal is combined with the original. The implementation of octave-up here is a simple full-wave rectification of the input however, in practice more sophisticated algorithms are used to avoid unnecessary higher-order harmonics. "
      ]
    },
    {
      "cell_type": "code",
      "metadata": {
        "id": "PTUWVt0Xy5qD",
        "colab_type": "code",
        "colab": {}
      },
      "source": [
        "octaveup_eff = geff.octaveup(geff.signal, True)\n",
        "ipd.Audio(octaveup_eff, rate=geff.framerate)"
      ],
      "execution_count": null,
      "outputs": []
    }
  ]
}