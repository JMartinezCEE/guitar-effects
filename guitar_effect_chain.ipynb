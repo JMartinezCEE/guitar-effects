{
  "nbformat": 4,
  "nbformat_minor": 0,
  "metadata": {
    "colab": {
      "name": "guitar-effect-chain.ipynb",
      "provenance": [],
      "authorship_tag": "ABX9TyMPnyi1bhcVvS7w2MMQUeT/",
      "include_colab_link": true
    },
    "kernelspec": {
      "name": "python3",
      "display_name": "Python 3"
    }
  },
  "cells": [
    {
      "cell_type": "markdown",
      "metadata": {
        "id": "view-in-github",
        "colab_type": "text"
      },
      "source": [
        "<a href=\"https://colab.research.google.com/github/gened1080/guitar-effects/blob/master/guitar_effect_chain.ipynb\" target=\"_parent\"><img src=\"https://colab.research.google.com/assets/colab-badge.svg\" alt=\"Open In Colab\"/></a>"
      ]
    },
    {
      "cell_type": "code",
      "metadata": {
        "id": "7mTW28iP0Jtn",
        "colab_type": "code",
        "colab": {}
      },
      "source": [
        "%%bash\n",
        "!(stat -t /usr/local/lib/*/dist-packages/google/colab > /dev/null 2>&1) && exit \n",
        "rm -rf guitar-effects\n",
        "git clone https://github.com/gened1080/guitar-effects.git\n",
        "pip install pydub\n",
        "sudo apt-get install libasound-dev portaudio19-dev libportaudio2 libportaudiocpp0 ffmpeg\n",
        "pip install pyaudio"
      ],
      "execution_count": null,
      "outputs": []
    },
    {
      "cell_type": "code",
      "metadata": {
        "id": "Lqb7wOGj0LkI",
        "colab_type": "code",
        "colab": {}
      },
      "source": [
        "import sys\n",
        "sys.path.append('/content/guitar-effects')\n",
        "import guitareffects as ge\n",
        "from bokeh.io import output_notebook\n",
        "import IPython.display as ipd\n",
        "output_notebook()"
      ],
      "execution_count": null,
      "outputs": []
    },
    {
      "cell_type": "markdown",
      "metadata": {
        "id": "oCx_QWWA0OrG",
        "colab_type": "text"
      },
      "source": [
        "## Chaining Guitar Effects\n",
        "\n",
        "This notebook demostrates how to chain the various functions that implement different guitar effects, defined in the file `guitareffects.py`.\n",
        "\n",
        "Start by creating an object of the class `GEcore` by running the cell below. This will also prompt you to enter the name of the input audio file. The audio files have to be saved in the folder called `audiofiles`."
      ]
    },
    {
      "cell_type": "code",
      "metadata": {
        "id": "Ddngombf0VTo",
        "colab_type": "code",
        "colab": {}
      },
      "source": [
        "geff = ge.GEcore()\n",
        "ipd.Audio(geff.signal, rate=geff.framerate)"
      ],
      "execution_count": null,
      "outputs": []
    },
    {
      "cell_type": "markdown",
      "metadata": {
        "id": "sgO4uSkW0Xa-",
        "colab_type": "text"
      },
      "source": [
        "The effects can be chained by using the output of the function for one effect as the input to another. The cell below chains the delay, distortion, and wah-wah effects."
      ]
    },
    {
      "cell_type": "code",
      "metadata": {
        "id": "4omz_s2S0a_p",
        "colab_type": "code",
        "colab": {}
      },
      "source": [
        "eff1 = geff.delay(geff.signal, False)\n",
        "eff2 = geff.distortion(eff1, False)\n",
        "eff3 = geff.wahwah(eff2, False)\n",
        "geff.plot_signal([geff.signal, eff3], True)\n",
        "ipd.Audio(eff3, rate=geff.framerate)"
      ],
      "execution_count": null,
      "outputs": []
    }
  ]
}